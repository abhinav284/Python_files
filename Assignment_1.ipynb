{
 "cells": [
  {
   "cell_type": "markdown",
   "id": "986599fd",
   "metadata": {},
   "source": [
    "1. In the below elements which of them are values or an expression? eg:- values can be\n",
    "integer or string and expressions will be mathematical operators.\n",
    "*\n",
    "&#39;hello&#39;\n",
    "-87.8\n",
    "-\n",
    "/\n",
    "+\n",
    "6"
   ]
  },
  {
   "cell_type": "raw",
   "id": "73bcfb23",
   "metadata": {},
   "source": [
    "'hello' is a string\n",
    "87.8 is floating point value\n",
    "- + = is mathematical operator\n",
    "6 is an interger value"
   ]
  },
  {
   "cell_type": "code",
   "execution_count": null,
   "id": "3dda5cc4",
   "metadata": {},
   "outputs": [],
   "source": []
  },
  {
   "cell_type": "markdown",
   "id": "c26bd52e",
   "metadata": {},
   "source": [
    "2. What is the difference between string and variable?"
   ]
  },
  {
   "cell_type": "raw",
   "id": "60cead8d",
   "metadata": {},
   "source": [
    "string is data type in programming world which represent the character or sequence of character , in programming it is stored under colon or double conol (' ')or (\" \")\n",
    "\n",
    "A variable is named storage location in memory that holds the value , used to store the data type  of different class. it  serve as a placeholder to store values that can be modified or accessed during program compilation"
   ]
  },
  {
   "cell_type": "code",
   "execution_count": null,
   "id": "5d908b78",
   "metadata": {},
   "outputs": [],
   "source": []
  },
  {
   "cell_type": "markdown",
   "id": "b88af64a",
   "metadata": {},
   "source": [
    "3. Describe three different data types.\n",
    "\n"
   ]
  },
  {
   "cell_type": "raw",
   "id": "c1789575",
   "metadata": {},
   "source": [
    "three different data type\n",
    "\n",
    "integer = This data type represents whole numbers without any fractional or decimal parts. For example, 10, -5, and 0 are integers. Integers are typically used for counting, indexing, and performing arithmetic operations.\n",
    "\n",
    "string - string is data type in programming world which represent the character or sequence of character , in programming it is stored under colon or double conol (' ')or (\" \") . example - 'Hello, world!'\n",
    "\n",
    "Float (float): This data type represents numbers with fractional or decimal parts. For example, 3.14, -0.5, and 2.0 are floats. Floats are used to store and manipulate real numbers, including values with decimal points.\n",
    "\n"
   ]
  },
  {
   "cell_type": "code",
   "execution_count": null,
   "id": "d8215bc1",
   "metadata": {},
   "outputs": [],
   "source": []
  },
  {
   "cell_type": "markdown",
   "id": "327151f0",
   "metadata": {},
   "source": [
    "4. What is an expression made up of? What do all expressions do?\n"
   ]
  },
  {
   "cell_type": "raw",
   "id": "730b04ce",
   "metadata": {},
   "source": [
    "an expression is made up of one or more operand and operator.\n",
    "expression can be simple or complex, depending on the numbers of operands and the complexity of the operator used .\n",
    "\n",
    "Expression are used to perform calculations, combines values, assign value to variables and perform various operation in a program "
   ]
  },
  {
   "cell_type": "code",
   "execution_count": null,
   "id": "0d05b483",
   "metadata": {},
   "outputs": [],
   "source": []
  },
  {
   "cell_type": "markdown",
   "id": "98a6f80b",
   "metadata": {},
   "source": [
    "5. This assignment statements, like spam = 10. What is the difference between an\n",
    "expression and a statement?\n",
    ";"
   ]
  },
  {
   "cell_type": "raw",
   "id": "84741de8",
   "metadata": {},
   "source": [
    "difference between expression and statement is \n",
    "- an expression is a combination of literls , variables, operators and function calls that produces a value when evaluated.used to calculate values, combine values, and perform operations.\n",
    "\n",
    "- an statement is a complete instruction or action that performs a specific task within a program.statements include assignment statements (spam = 10), control flow statements (if-else, loops), function declarations, or I/O operations.\n"
   ]
  },
  {
   "cell_type": "code",
   "execution_count": null,
   "id": "767be8b1",
   "metadata": {},
   "outputs": [],
   "source": []
  },
  {
   "cell_type": "markdown",
   "id": "d9f8ffa4",
   "metadata": {},
   "source": [
    "6. After running the following code, what does the variable bacon contain?\n",
    "bacon = 22\n",
    "bacon + 1\n",
    "\n"
   ]
  },
  {
   "cell_type": "raw",
   "id": "ebe4596c",
   "metadata": {},
   "source": [
    "22"
   ]
  },
  {
   "cell_type": "code",
   "execution_count": null,
   "id": "92f4e6cb",
   "metadata": {},
   "outputs": [],
   "source": []
  },
  {
   "cell_type": "markdown",
   "id": "1ff31968",
   "metadata": {},
   "source": [
    "7. What should the values of the following two terms be?\n",
    "&#39;spam&#39; + &#39;spamspam&#39;\n",
    "&#39;spam&#39; * 3\n",
    "\n"
   ]
  },
  {
   "cell_type": "raw",
   "id": "232feb82",
   "metadata": {},
   "source": [
    "in both case the ans will be spamspamspam"
   ]
  },
  {
   "cell_type": "code",
   "execution_count": null,
   "id": "51ab855e",
   "metadata": {},
   "outputs": [],
   "source": []
  },
  {
   "cell_type": "markdown",
   "id": "9ffdeda2",
   "metadata": {},
   "source": [
    "8. Why is eggs a valid variable name while 100 is invalid?\n",
    "\n"
   ]
  },
  {
   "cell_type": "raw",
   "id": "3090fa46",
   "metadata": {},
   "source": [
    "cause eggs contain the letters only and is in lowercase it follows the rule of variable naming\n",
    "and 100 is invalid name beacuse it start with digit variable name cannot start with digit"
   ]
  },
  {
   "cell_type": "code",
   "execution_count": null,
   "id": "341454f8",
   "metadata": {},
   "outputs": [],
   "source": []
  },
  {
   "cell_type": "markdown",
   "id": "9a367011",
   "metadata": {},
   "source": [
    "9. What three functions can be used to get the integer, floating-point number, or string\n",
    "version of a value?\n"
   ]
  },
  {
   "cell_type": "raw",
   "id": "454eab94",
   "metadata": {},
   "source": [
    "int(10)\n",
    "float(3.56)\n",
    "str('89')"
   ]
  },
  {
   "cell_type": "code",
   "execution_count": null,
   "id": "fb1c0d3e",
   "metadata": {},
   "outputs": [],
   "source": []
  },
  {
   "cell_type": "markdown",
   "id": "7842dbca",
   "metadata": {},
   "source": [
    "10. Why does this expression cause an error? How can you fix it?\n"
   ]
  },
  {
   "cell_type": "raw",
   "id": "7550c801",
   "metadata": {},
   "source": [
    "expresssion can cause an error of various reason that are  syantex error, type error, undefined variable, division by zero, name error.\n",
    "We can fix the error by carefully reviewing the error message or behaviour of the expression, we could check for any syntax error and ensure variable are properly defined and initialized\n"
   ]
  },
  {
   "cell_type": "code",
   "execution_count": null,
   "id": "2269d4b4",
   "metadata": {},
   "outputs": [],
   "source": []
  }
 ],
 "metadata": {
  "kernelspec": {
   "display_name": "Python 3 (ipykernel)",
   "language": "python",
   "name": "python3"
  },
  "language_info": {
   "codemirror_mode": {
    "name": "ipython",
    "version": 3
   },
   "file_extension": ".py",
   "mimetype": "text/x-python",
   "name": "python",
   "nbconvert_exporter": "python",
   "pygments_lexer": "ipython3",
   "version": "3.9.7"
  }
 },
 "nbformat": 4,
 "nbformat_minor": 5
}
