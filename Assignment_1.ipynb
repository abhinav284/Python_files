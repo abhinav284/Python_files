{
 "cells": [
  {
   "cell_type": "markdown",
   "id": "601b2681",
   "metadata": {},
   "source": [
    "1. In the below elements which of them are values or an expression? eg:- values can be\n",
    "integer or string and expressions will be mathematical operators.\n",
    "*\n",
    "&#39;hello&#39;\n",
    "-87.8\n",
    "-\n",
    "/\n",
    "+\n",
    "6"
   ]
  },
  {
   "cell_type": "markdown",
   "id": "ed0d9c39",
   "metadata": {},
   "source": [
    "\n",
    "\n",
    "'hello' is a string\n",
    "87.8 is floating point value\n",
    "- + = is mathematical operator\n",
    "6 is an interger value"
   ]
  },
  {
   "cell_type": "code",
   "execution_count": null,
   "id": "1947a5d8",
   "metadata": {},
   "outputs": [],
   "source": []
  },
  {
   "cell_type": "markdown",
   "id": "a9fb89b3",
   "metadata": {},
   "source": [
    "2. What is the difference between string and variable?"
   ]
  },
  {
   "cell_type": "markdown",
   "id": "f28f0a3c",
   "metadata": {},
   "source": [
    "\n",
    "\n",
    "string is data type in programming world which represent the character or sequence of character , in programming it is stored under colon or double conol (' ')or (\" \")\n",
    "\n",
    "A variable is named storage location in memory that holds the value , used to store the data type  of different class. it  serve as a placeholder to store values that can be modified or accessed during program compilation"
   ]
  },
  {
   "cell_type": "code",
   "execution_count": null,
   "id": "2e559a65",
   "metadata": {},
   "outputs": [],
   "source": []
  },
  {
   "cell_type": "markdown",
   "id": "94288d4f",
   "metadata": {},
   "source": [
    "3. Describe three different data types.\n",
    "\n"
   ]
  },
  {
   "cell_type": "markdown",
   "id": "8022c741",
   "metadata": {},
   "source": [
    "\n",
    "\n",
    "three different data type\n",
    "\n",
    "integer = This data type represents whole numbers without any fractional or decimal parts. For example, 10, -5, and 0 are integers. Integers are typically used for counting, indexing, and performing arithmetic operations.\n",
    "\n",
    "string - string is data type in programming world which represent the character or sequence of character , in programming it is stored under colon or double conol (' ')or (\" \") . example - 'Hello, world!'\n",
    "\n",
    "Float (float): This data type represents numbers with fractional or decimal parts. For example, 3.14, -0.5, and 2.0 are floats. Floats are used to store and manipulate real numbers, including values with decimal points.\n",
    "\n"
   ]
  },
  {
   "cell_type": "code",
   "execution_count": null,
   "id": "02434376",
   "metadata": {},
   "outputs": [],
   "source": []
  },
  {
   "cell_type": "markdown",
   "id": "e5ed118b",
   "metadata": {},
   "source": [
    "4. What is an expression made up of? What do all expressions do?\n"
   ]
  },
  {
   "cell_type": "markdown",
   "id": "a87ce007",
   "metadata": {},
   "source": [
    "\n",
    "\n",
    "an expression is made up of one or more operand and operator.\n",
    "expression can be simple or complex, depending on the numbers of operands and the complexity of the operator used .\n",
    "\n",
    "Expression are used to perform calculations, combines values, assign value to variables and perform various operation in a program "
   ]
  },
  {
   "cell_type": "code",
   "execution_count": null,
   "id": "fa38511b",
   "metadata": {},
   "outputs": [],
   "source": []
  },
  {
   "cell_type": "markdown",
   "id": "9d0b6a55",
   "metadata": {},
   "source": [
    "5. This assignment statements, like spam = 10. What is the difference between an\n",
    "expression and a statement?\n",
    ";"
   ]
  },
  {
   "cell_type": "markdown",
   "id": "25aa2b73",
   "metadata": {},
   "source": [
    "\n",
    "\n",
    "difference between expression and statement is \n",
    "- an expression is a combination of literls , variables, operators and function calls that produces a value when evaluated.used to calculate values, combine values, and perform operations.\n",
    "\n",
    "- an statement is a complete instruction or action that performs a specific task within a program.statements include assignment statements (spam = 10), control flow statements (if-else, loops), function declarations, or I/O operations.\n"
   ]
  },
  {
   "cell_type": "code",
   "execution_count": null,
   "id": "fa1014f5",
   "metadata": {},
   "outputs": [],
   "source": []
  },
  {
   "cell_type": "markdown",
   "id": "ec0255be",
   "metadata": {},
   "source": [
    "6. After running the following code, what does the variable bacon contain?\n",
    "bacon = 22\n",
    "bacon + 1\n",
    "\n"
   ]
  },
  {
   "cell_type": "markdown",
   "id": "aa823479",
   "metadata": {},
   "source": [
    "\n",
    "22"
   ]
  },
  {
   "cell_type": "code",
   "execution_count": null,
   "id": "6594a13f",
   "metadata": {},
   "outputs": [],
   "source": []
  },
  {
   "cell_type": "markdown",
   "id": "a286565a",
   "metadata": {},
   "source": [
    "7. What should the values of the following two terms be?\n",
    "&#39;spam&#39; + &#39;spamspam&#39;\n",
    "&#39;spam&#39; * 3\n",
    "\n"
   ]
  },
  {
   "cell_type": "markdown",
   "id": "645c6228",
   "metadata": {},
   "source": [
    "\n",
    "in both case the ans will be spamspamspam"
   ]
  },
  {
   "cell_type": "code",
   "execution_count": null,
   "id": "c8e8887d",
   "metadata": {},
   "outputs": [],
   "source": []
  },
  {
   "cell_type": "markdown",
   "id": "ac1ebf36",
   "metadata": {},
   "source": [
    "8. Why is eggs a valid variable name while 100 is invalid?\n",
    "\n"
   ]
  },
  {
   "cell_type": "markdown",
   "id": "3659e0a4",
   "metadata": {},
   "source": [
    "\n",
    "cause eggs contain the letters only and is in lowercase it follows the rule of variable naming\n",
    "and 100 is invalid name beacuse it start with digit variable name cannot start with digit"
   ]
  },
  {
   "cell_type": "code",
   "execution_count": null,
   "id": "8f1047e0",
   "metadata": {},
   "outputs": [],
   "source": []
  },
  {
   "cell_type": "markdown",
   "id": "c6c68413",
   "metadata": {},
   "source": [
    "9. What three functions can be used to get the integer, floating-point number, or string\n",
    "version of a value?\n"
   ]
  },
  {
   "cell_type": "markdown",
   "id": "32243782",
   "metadata": {},
   "source": [
    "\n",
    "int(10)\n",
    "float(3.56)\n",
    "str('89')"
   ]
  },
  {
   "cell_type": "code",
   "execution_count": null,
   "id": "323e889d",
   "metadata": {},
   "outputs": [],
   "source": []
  },
  {
   "cell_type": "markdown",
   "id": "fcfdd186",
   "metadata": {},
   "source": [
    "10. Why does this expression cause an error? How can you fix it?\n"
   ]
  },
  {
   "cell_type": "markdown",
   "id": "524d921a",
   "metadata": {},
   "source": [
    "\n",
    "expresssion can cause an error of various reason that are  syantex error, type error, undefined variable, division by zero, name error.\n",
    "We can fix the error by carefully reviewing the error message or behaviour of the expression, we could check for any syntax error and ensure variable are properly defined and initialized\n"
   ]
  },
  {
   "cell_type": "code",
   "execution_count": null,
   "id": "0bfe14b4",
   "metadata": {},
   "outputs": [],
   "source": []
  }
 ],
 "metadata": {
  "kernelspec": {
   "display_name": "Python 3 (ipykernel)",
   "language": "python",
   "name": "python3"
  },
  "language_info": {
   "codemirror_mode": {
    "name": "ipython",
    "version": 3
   },
   "file_extension": ".py",
   "mimetype": "text/x-python",
   "name": "python",
   "nbconvert_exporter": "python",
   "pygments_lexer": "ipython3",
   "version": "3.9.7"
  }
 },
 "nbformat": 4,
 "nbformat_minor": 5
}
