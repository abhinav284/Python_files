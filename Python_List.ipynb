{
 "cells": [
  {
   "cell_type": "code",
   "execution_count": 1,
   "id": "8204c560",
   "metadata": {},
   "outputs": [
    {
     "data": {
      "text/plain": [
       "1"
      ]
     },
     "execution_count": 1,
     "metadata": {},
     "output_type": "execute_result"
    }
   ],
   "source": [
    "a = [1,2,3,4,5,6]\n",
    "a[0]"
   ]
  },
  {
   "cell_type": "code",
   "execution_count": 2,
   "id": "bf6b20d0",
   "metadata": {},
   "outputs": [
    {
     "data": {
      "text/plain": [
       "list"
      ]
     },
     "execution_count": 2,
     "metadata": {},
     "output_type": "execute_result"
    }
   ],
   "source": [
    "A = [1,2,3,\"sunny\",1+2j,\"true\"]\n",
    "type(A)"
   ]
  },
  {
   "cell_type": "code",
   "execution_count": 3,
   "id": "b56a6c5f",
   "metadata": {},
   "outputs": [],
   "source": [
    "#list\n",
    "#what is the difference between list of python and array os any language like c and c++\n",
    "#-- in array we will have elements of only one type of datatype element"
   ]
  },
  {
   "cell_type": "code",
   "execution_count": 4,
   "id": "3fb30515",
   "metadata": {},
   "outputs": [
    {
     "name": "stdout",
     "output_type": "stream",
     "text": [
      "1\n",
      "2\n",
      "3\n",
      "sunny\n",
      "(1+2j)\n",
      "true\n"
     ]
    }
   ],
   "source": [
    "for element in A:\n",
    "    print(element)"
   ]
  },
  {
   "cell_type": "code",
   "execution_count": 5,
   "id": "e89cf292",
   "metadata": {},
   "outputs": [
    {
     "data": {
      "text/plain": [
       "6"
      ]
     },
     "execution_count": 5,
     "metadata": {},
     "output_type": "execute_result"
    }
   ],
   "source": [
    "len(A)"
   ]
  },
  {
   "cell_type": "code",
   "execution_count": 6,
   "id": "1667e0b8",
   "metadata": {},
   "outputs": [
    {
     "name": "stdout",
     "output_type": "stream",
     "text": [
      "i=0, value = 1,datatype=<class 'int'>\n",
      "i=1, value = 2,datatype=<class 'int'>\n",
      "i=2, value = 3,datatype=<class 'int'>\n",
      "i=3, value = sunny,datatype=<class 'str'>\n",
      "i=4, value = (1+2j),datatype=<class 'complex'>\n",
      "i=5, value = true,datatype=<class 'str'>\n"
     ]
    }
   ],
   "source": [
    "for i in range(len(A)):\n",
    "    print(f\"i={i}, value = {A[i]},datatype={type(A[i])}\")"
   ]
  },
  {
   "cell_type": "code",
   "execution_count": 7,
   "id": "334c0a41",
   "metadata": {},
   "outputs": [
    {
     "data": {
      "text/plain": [
       "[1, 3, (1+2j)]"
      ]
     },
     "execution_count": 7,
     "metadata": {},
     "output_type": "execute_result"
    }
   ],
   "source": [
    "A[0::2] #[start index: end index :step]"
   ]
  },
  {
   "cell_type": "code",
   "execution_count": 8,
   "id": "64383cd5",
   "metadata": {},
   "outputs": [
    {
     "data": {
      "text/plain": [
       "['sunny', (1+2j), 'true']"
      ]
     },
     "execution_count": 8,
     "metadata": {},
     "output_type": "execute_result"
    }
   ],
   "source": [
    "A[3:]"
   ]
  },
  {
   "cell_type": "code",
   "execution_count": 9,
   "id": "c8b0b66c",
   "metadata": {},
   "outputs": [
    {
     "name": "stdout",
     "output_type": "stream",
     "text": [
      "0 1\n",
      "2 3\n",
      "4 (1+2j)\n"
     ]
    },
    {
     "ename": "IndexError",
     "evalue": "list index out of range",
     "output_type": "error",
     "traceback": [
      "\u001b[1;31m---------------------------------------------------------------------------\u001b[0m",
      "\u001b[1;31mIndexError\u001b[0m                                Traceback (most recent call last)",
      "\u001b[1;32m~\\AppData\\Local\\Temp/ipykernel_18564/1857119843.py\u001b[0m in \u001b[0;36m<module>\u001b[1;34m\u001b[0m\n\u001b[0;32m      1\u001b[0m \u001b[1;32mfor\u001b[0m \u001b[0mi\u001b[0m \u001b[1;32min\u001b[0m \u001b[0mrange\u001b[0m\u001b[1;33m(\u001b[0m\u001b[1;36m0\u001b[0m\u001b[1;33m,\u001b[0m\u001b[1;36m8\u001b[0m\u001b[1;33m,\u001b[0m\u001b[1;36m2\u001b[0m\u001b[1;33m)\u001b[0m\u001b[1;33m:\u001b[0m\u001b[1;31m#start end steps\u001b[0m\u001b[1;33m\u001b[0m\u001b[1;33m\u001b[0m\u001b[0m\n\u001b[1;32m----> 2\u001b[1;33m     \u001b[0mprint\u001b[0m\u001b[1;33m(\u001b[0m\u001b[0mi\u001b[0m\u001b[1;33m,\u001b[0m \u001b[0mA\u001b[0m\u001b[1;33m[\u001b[0m\u001b[0mi\u001b[0m\u001b[1;33m]\u001b[0m\u001b[1;33m)\u001b[0m\u001b[1;33m\u001b[0m\u001b[1;33m\u001b[0m\u001b[0m\n\u001b[0m\u001b[0;32m      3\u001b[0m \u001b[1;33m\u001b[0m\u001b[0m\n",
      "\u001b[1;31mIndexError\u001b[0m: list index out of range"
     ]
    }
   ],
   "source": [
    "for i in range(0,8,2):#start end steps\n",
    "    print(i, A[i])\n",
    "    "
   ]
  },
  {
   "cell_type": "code",
   "execution_count": null,
   "id": "b7033016",
   "metadata": {},
   "outputs": [],
   "source": [
    "A"
   ]
  },
  {
   "cell_type": "code",
   "execution_count": null,
   "id": "3c1a1c45",
   "metadata": {},
   "outputs": [],
   "source": [
    "A[::-1]"
   ]
  },
  {
   "cell_type": "code",
   "execution_count": null,
   "id": "82d38598",
   "metadata": {},
   "outputs": [],
   "source": [
    "for i in range(-1 , -len(A) -1, -1):\n",
    "    print(i , A[i])"
   ]
  },
  {
   "cell_type": "code",
   "execution_count": null,
   "id": "e206a7b3",
   "metadata": {},
   "outputs": [],
   "source": [
    "A[4] = 666\n"
   ]
  },
  {
   "cell_type": "code",
   "execution_count": null,
   "id": "7fd2603d",
   "metadata": {},
   "outputs": [],
   "source": [
    "A"
   ]
  },
  {
   "cell_type": "code",
   "execution_count": null,
   "id": "2cb19516",
   "metadata": {},
   "outputs": [],
   "source": [
    "B = [78,90,92]"
   ]
  },
  {
   "cell_type": "code",
   "execution_count": null,
   "id": "c4f42c15",
   "metadata": {},
   "outputs": [],
   "source": [
    "A+B"
   ]
  },
  {
   "cell_type": "code",
   "execution_count": null,
   "id": "7955eac8",
   "metadata": {},
   "outputs": [],
   "source": [
    "A = A + B"
   ]
  },
  {
   "cell_type": "code",
   "execution_count": null,
   "id": "275069aa",
   "metadata": {},
   "outputs": [],
   "source": [
    "A"
   ]
  },
  {
   "cell_type": "code",
   "execution_count": null,
   "id": "89f6d906",
   "metadata": {},
   "outputs": [],
   "source": [
    "A * 2"
   ]
  },
  {
   "cell_type": "code",
   "execution_count": null,
   "id": "ab0dae3e",
   "metadata": {},
   "outputs": [],
   "source": [
    "A+A+A"
   ]
  },
  {
   "cell_type": "code",
   "execution_count": 18,
   "id": "12c8fc72",
   "metadata": {},
   "outputs": [
    {
     "name": "stdout",
     "output_type": "stream",
     "text": [
      "no of items you want to purchase: 2\n",
      "Enter the items you want to purchase: pen\n",
      "current list: ['pen']\n",
      "Enter the items you want to purchase: ijk\n",
      "current list: ['pen', 'ijk']\n",
      "['pen', 'ijk']\n"
     ]
    }
   ],
   "source": [
    "list_of_items_to_purchase = list()\n",
    "N = int(input(\"no of items you want to purchase: \"))\n",
    "i = 0\n",
    "while i<N:\n",
    "    user_input = input(\"Enter the items you want to purchase: \")\n",
    "    list_of_items_to_purchase = list_of_items_to_purchase + [user_input]\n",
    "    print(f\"current list: {list_of_items_to_purchase}\")\n",
    "    i = i + 1\n",
    "print(list_of_items_to_purchase)\n",
    "    "
   ]
  },
  {
   "cell_type": "code",
   "execution_count": 17,
   "id": "f9ff9386",
   "metadata": {},
   "outputs": [
    {
     "data": {
      "text/plain": [
       "True"
      ]
     },
     "execution_count": 17,
     "metadata": {},
     "output_type": "execute_result"
    }
   ],
   "source": [
    "#check list\n",
    "\n",
    "\"pen\" in list_of_items_to_purchase"
   ]
  },
  {
   "cell_type": "code",
   "execution_count": 18,
   "id": "dbb5fd37",
   "metadata": {},
   "outputs": [
    {
     "name": "stdout",
     "output_type": "stream",
     "text": [
      "NO\n"
     ]
    }
   ],
   "source": [
    "if \"Milk\" not in list_of_items_to_purchase:\n",
    "    print(\"NO\")\n",
    "    "
   ]
  },
  {
   "cell_type": "code",
   "execution_count": 3,
   "id": "9cac2ab5",
   "metadata": {},
   "outputs": [
    {
     "data": {
      "text/plain": [
       "999"
      ]
     },
     "execution_count": 3,
     "metadata": {},
     "output_type": "execute_result"
    }
   ],
   "source": [
    "ex = [1,2,3,4,5,33,4,44,999]\n",
    "max(ex)"
   ]
  },
  {
   "cell_type": "code",
   "execution_count": 4,
   "id": "afe68fb5",
   "metadata": {},
   "outputs": [
    {
     "data": {
      "text/plain": [
       "'abhishek'"
      ]
     },
     "execution_count": 4,
     "metadata": {},
     "output_type": "execute_result"
    }
   ],
   "source": [
    "string_example = [\"bhaveen\",\"abhishek\",\"dew\",\"dj\",\"chrlie\"]\n",
    "min(string_example)"
   ]
  },
  {
   "cell_type": "code",
   "execution_count": 5,
   "id": "b1dfa08e",
   "metadata": {},
   "outputs": [
    {
     "name": "stdout",
     "output_type": "stream",
     "text": [
      "bhaveen 7\n",
      "abhishek 8\n",
      "dew 3\n",
      "dj 2\n",
      "chrlie 6\n",
      "RESULT: max_len: 8 name: abhishek\n"
     ]
    }
   ],
   "source": [
    "max_len = 0\n",
    "result = \" \"\n",
    "for example in string_example:\n",
    "    print(example, len(example))\n",
    "    if len(example) > max_len:\n",
    "        max_len = len(example)\n",
    "        result = example\n",
    "print(f\"RESULT: max_len: {max_len} name: {result}\")"
   ]
  },
  {
   "cell_type": "code",
   "execution_count": 12,
   "id": "eac073d6",
   "metadata": {},
   "outputs": [
    {
     "data": {
      "text/plain": [
       "[1, 2, 3, 4, 33, '99']"
      ]
     },
     "execution_count": 12,
     "metadata": {},
     "output_type": "execute_result"
    }
   ],
   "source": [
    "a = [1,2,3,4,33]\n",
    "a.append(\"99\")\n",
    "a"
   ]
  },
  {
   "cell_type": "code",
   "execution_count": 19,
   "id": "9b516517",
   "metadata": {},
   "outputs": [
    {
     "name": "stdout",
     "output_type": "stream",
     "text": [
      "no of items2\n",
      "Enter the items that you want to purchase:prn\n",
      "Enter the items that you want to purchase:klj\n",
      "['prn', 'klj']\n"
     ]
    }
   ],
   "source": [
    "\n",
    "list_of_items_to_purchase = list()\n",
    "n = int(input(\"no of items\"))\n",
    "\n",
    "for i in range(n):\n",
    "    user_input = input(\"Enter the items that you want to purchase:\")\n",
    "    list_of_items_to_purchase.append(user_input)\n",
    "print(list_of_items_to_purchase)"
   ]
  },
  {
   "cell_type": "code",
   "execution_count": 27,
   "id": "8cf2d62f",
   "metadata": {},
   "outputs": [
    {
     "data": {
      "text/plain": [
       "'abhi'"
      ]
     },
     "execution_count": 27,
     "metadata": {},
     "output_type": "execute_result"
    }
   ],
   "source": [
    "A = [6,3,4,2,'abhi']\n",
    "A.pop(4)"
   ]
  },
  {
   "cell_type": "code",
   "execution_count": 29,
   "id": "448ac69e",
   "metadata": {},
   "outputs": [
    {
     "name": "stdout",
     "output_type": "stream",
     "text": [
      "0 1\n",
      "odd num :1\n",
      "1 34\n",
      "even no 34\n",
      "2 23\n",
      "odd num :23\n",
      "3 65\n",
      "odd num :65\n",
      "4 76\n",
      "even no 76\n",
      "5 88\n",
      "even no 88\n",
      "6 99\n",
      "odd num :99\n"
     ]
    }
   ],
   "source": [
    "# remove the odd element\n",
    "a = [1,34,23,65,76,88,99]\n",
    "for idx in range(len(a)):\n",
    "    num = a[idx]\n",
    "    print(idx,num)\n",
    "    if num%2 != 0:#odd condition\n",
    "        print(f\"odd num :{num}\")\n",
    "    else:\n",
    "        print(f\"even no {num}\")\n",
    "        "
   ]
  },
  {
   "cell_type": "code",
   "execution_count": 37,
   "id": "0a256468",
   "metadata": {},
   "outputs": [
    {
     "data": {
      "text/plain": [
       "[1, 23, 34, 65, 76, 88, 99]"
      ]
     },
     "execution_count": 37,
     "metadata": {},
     "output_type": "execute_result"
    }
   ],
   "source": [
    "a = sorted(a)\n",
    "a"
   ]
  },
  {
   "cell_type": "code",
   "execution_count": 38,
   "id": "d68c9ecc",
   "metadata": {},
   "outputs": [
    {
     "data": {
      "text/plain": [
       "[99, 88, 76, 65, 34, 23, 1]"
      ]
     },
     "execution_count": 38,
     "metadata": {},
     "output_type": "execute_result"
    }
   ],
   "source": [
    "a[::-1]"
   ]
  },
  {
   "cell_type": "code",
   "execution_count": 41,
   "id": "9e29c19a",
   "metadata": {},
   "outputs": [
    {
     "data": {
      "text/plain": [
       "[98, 67, 45, 1, -34]"
      ]
     },
     "execution_count": 41,
     "metadata": {},
     "output_type": "execute_result"
    }
   ],
   "source": [
    "a = [1,45,67,98,-34]\n",
    "a.sort(reverse=True) #directly get answer in decending order\n",
    "a"
   ]
  },
  {
   "cell_type": "code",
   "execution_count": 44,
   "id": "6ef8b037",
   "metadata": {},
   "outputs": [],
   "source": [
    "a.reverse() #implace solution"
   ]
  },
  {
   "cell_type": "code",
   "execution_count": 45,
   "id": "1da44eec",
   "metadata": {},
   "outputs": [
    {
     "data": {
      "text/plain": [
       "[98, 67, 45, 1, -34]"
      ]
     },
     "execution_count": 45,
     "metadata": {},
     "output_type": "execute_result"
    }
   ],
   "source": [
    "a"
   ]
  },
  {
   "cell_type": "markdown",
   "id": "2c3c45b3",
   "metadata": {},
   "source": [
    "# nesting of list"
   ]
  },
  {
   "cell_type": "code",
   "execution_count": 47,
   "id": "843d85a4",
   "metadata": {},
   "outputs": [
    {
     "data": {
      "text/plain": [
       "[[1, 2, 3], [11, 22, 33], [23, 56, 78]]"
      ]
     },
     "execution_count": 47,
     "metadata": {},
     "output_type": "execute_result"
    }
   ],
   "source": [
    "#nesting of the list\n",
    "a = [[1,2,3],[11,22,33],[23,56,78]]\n",
    "a"
   ]
  },
  {
   "cell_type": "code",
   "execution_count": 48,
   "id": "028061e2",
   "metadata": {},
   "outputs": [
    {
     "data": {
      "text/plain": [
       "[1, 2, 3]"
      ]
     },
     "execution_count": 48,
     "metadata": {},
     "output_type": "execute_result"
    }
   ],
   "source": [
    "a[0]"
   ]
  },
  {
   "cell_type": "code",
   "execution_count": 50,
   "id": "3caa0383",
   "metadata": {},
   "outputs": [
    {
     "data": {
      "text/plain": [
       "2"
      ]
     },
     "execution_count": 50,
     "metadata": {},
     "output_type": "execute_result"
    }
   ],
   "source": [
    "a[0][1]"
   ]
  },
  {
   "cell_type": "code",
   "execution_count": 57,
   "id": "9929cb30",
   "metadata": {},
   "outputs": [
    {
     "data": {
      "text/plain": [
       "115000"
      ]
     },
     "execution_count": 57,
     "metadata": {},
     "output_type": "execute_result"
    }
   ],
   "source": [
    "amazon_cart = [[\"watch\",5000],[\"phone\",10000],[\"laptop\",100000]]\n",
    "\n",
    "total_cost = 0\n",
    "amazon_cart[0][1]+amazon_cart[1][1]+amazon_cart[2][1]"
   ]
  },
  {
   "cell_type": "code",
   "execution_count": 58,
   "id": "c5a44371",
   "metadata": {},
   "outputs": [
    {
     "name": "stdout",
     "output_type": "stream",
     "text": [
      "5000\n",
      "10000\n",
      "100000\n",
      "115000\n"
     ]
    }
   ],
   "source": [
    "total_cost = 0\n",
    "\n",
    "for i in range(len(amazon_cart)):\n",
    "    print(amazon_cart[i][1])\n",
    "    total_cost = total_cost + amazon_cart[i][1]\n",
    "    \n",
    "print(total_cost)"
   ]
  },
  {
   "cell_type": "code",
   "execution_count": 60,
   "id": "88a34649",
   "metadata": {},
   "outputs": [
    {
     "name": "stdout",
     "output_type": "stream",
     "text": [
      "5000\n",
      "cart after adding : watch: 5000\n",
      "10000\n",
      "cart after adding : phone: 15000\n",
      "100000\n",
      "cart after adding : laptop: 115000\n",
      "Total Payable amount:  115000\n"
     ]
    }
   ],
   "source": [
    "total_cost = 0\n",
    "for item in amazon_cart:\n",
    "    print(item[1])\n",
    "    total_cost = total_cost + item[1]\n",
    "    print(f\"cart after adding : {item[0]}: {total_cost}\")\n",
    "print(f\"Total Payable amount:  {total_cost}\")"
   ]
  },
  {
   "cell_type": "markdown",
   "id": "4ce391aa",
   "metadata": {},
   "source": [
    "# List comprehension\n"
   ]
  },
  {
   "cell_type": "code",
   "execution_count": 64,
   "id": "7c3fdec4",
   "metadata": {},
   "outputs": [
    {
     "name": "stdout",
     "output_type": "stream",
     "text": [
      "1\n",
      "4\n",
      "9\n",
      "16\n",
      "25\n",
      "36\n",
      "49\n",
      "64\n",
      "81\n",
      "100\n",
      "121\n",
      "144\n",
      "169\n",
      "196\n",
      "225\n",
      "256\n",
      "289\n",
      "324\n",
      "[1, 4, 9, 16, 25, 36, 49, 64, 81, 100, 121, 144, 169, 196, 225, 256, 289, 324]\n"
     ]
    }
   ],
   "source": [
    "#list which contain list of square of no between 1 to 10\n",
    "\n",
    "\n",
    "a = [1,2,3,4,5,6,7,8,9,10,11,12,13,14,15,16,17,18]\n",
    "ans = list()\n",
    "\n",
    "for ele in a:\n",
    "    print(ele**2)\n",
    "    ans.append(ele**2)\n",
    "print(ans)"
   ]
  },
  {
   "cell_type": "code",
   "execution_count": 65,
   "id": "0c79be7e",
   "metadata": {},
   "outputs": [
    {
     "name": "stdout",
     "output_type": "stream",
     "text": [
      "[1, 4, 9, 16, 25, 36, 49, 64, 81, 100, 121, 144, 169, 196, 225, 256, 289, 324]\n"
     ]
    }
   ],
   "source": [
    "ans = [ele **2 for ele in a]\n",
    "print(ans)"
   ]
  },
  {
   "cell_type": "code",
   "execution_count": 66,
   "id": "c1e8ee4b",
   "metadata": {},
   "outputs": [
    {
     "name": "stdout",
     "output_type": "stream",
     "text": [
      "[1, 4, 9, 16, 25, 36, 49, 64, 81, 100, 121, 144, 169, 196, 225, 256, 289, 324]\n"
     ]
    }
   ],
   "source": [
    "ans = [i**2 for i in a]\n",
    "print(ans)"
   ]
  },
  {
   "cell_type": "code",
   "execution_count": 71,
   "id": "856f5824",
   "metadata": {},
   "outputs": [
    {
     "name": "stdout",
     "output_type": "stream",
     "text": [
      "1\n",
      "3\n",
      "5\n",
      "7\n",
      "9\n"
     ]
    },
    {
     "data": {
      "text/plain": [
       "[1, 9, 25, 49, 81]"
      ]
     },
     "execution_count": 71,
     "metadata": {},
     "output_type": "execute_result"
    }
   ],
   "source": [
    "# only take the square of odd no in the list A\n",
    "a = [1,2,3,4,5,6,7,8,9,10]\n",
    "ans = list()\n",
    "for ele in a:\n",
    "    if ele%2 != 0:\n",
    "        print(ele)\n",
    "        ans.append(ele**2)\n",
    "ans"
   ]
  },
  {
   "cell_type": "code",
   "execution_count": 69,
   "id": "6825fbcf",
   "metadata": {},
   "outputs": [
    {
     "name": "stdout",
     "output_type": "stream",
     "text": [
      "[1, 9, 25, 49, 81]\n"
     ]
    }
   ],
   "source": [
    "ans = [ele**2 for ele in a if ele%2 != 0]\n",
    "print(ans)"
   ]
  },
  {
   "cell_type": "code",
   "execution_count": null,
   "id": "9e3c66a0",
   "metadata": {},
   "outputs": [],
   "source": []
  },
  {
   "cell_type": "markdown",
   "id": "9f668ac3",
   "metadata": {},
   "source": [
    "# count"
   ]
  },
  {
   "cell_type": "code",
   "execution_count": 73,
   "id": "42514701",
   "metadata": {},
   "outputs": [
    {
     "data": {
      "text/plain": [
       "4"
      ]
     },
     "execution_count": 73,
     "metadata": {},
     "output_type": "execute_result"
    }
   ],
   "source": [
    "A = [1,2,1,4,5,6,3,5,2,3,1,1,2]\n",
    "A.count(1)"
   ]
  },
  {
   "cell_type": "code",
   "execution_count": 74,
   "id": "9114a6ac",
   "metadata": {},
   "outputs": [
    {
     "data": {
      "text/plain": [
       "2"
      ]
     },
     "execution_count": 74,
     "metadata": {},
     "output_type": "execute_result"
    }
   ],
   "source": [
    "a = [1,2,3,4,5,4,[7,7,],[3,4,],[7,7],33]\n",
    "a.count([7,7])"
   ]
  },
  {
   "cell_type": "code",
   "execution_count": 76,
   "id": "12c40622",
   "metadata": {},
   "outputs": [
    {
     "name": "stdout",
     "output_type": "stream",
     "text": [
      "1 4\n",
      "2 3\n",
      "1 4\n",
      "4 1\n",
      "5 2\n",
      "6 1\n",
      "3 2\n",
      "5 2\n",
      "2 3\n",
      "3 2\n",
      "1 4\n",
      "1 4\n",
      "2 3\n"
     ]
    }
   ],
   "source": [
    "a = [1,2,1,4,5,6,3,5,2,3,1,1,2]\n",
    "for i in a:\n",
    "    print(i,a.count(i))\n",
    "    "
   ]
  },
  {
   "cell_type": "code",
   "execution_count": 77,
   "id": "0fca5a09",
   "metadata": {},
   "outputs": [
    {
     "name": "stdout",
     "output_type": "stream",
     "text": [
      "A 1\n",
      "b 1\n",
      "h 1\n",
      "i 1\n",
      "n 1\n",
      "a 2\n",
      "v 1\n",
      "  1\n",
      "K 1\n",
      "u 1\n",
      "m 1\n",
      "a 2\n",
      "r 1\n"
     ]
    }
   ],
   "source": [
    "A = \"Abhinav Kumar\"\n",
    "for i in A:\n",
    "    print(i,A.count(i))"
   ]
  },
  {
   "cell_type": "markdown",
   "id": "bf0c9a74",
   "metadata": {},
   "source": [
    "# Extend Method"
   ]
  },
  {
   "cell_type": "code",
   "execution_count": 81,
   "id": "e6b737b2",
   "metadata": {},
   "outputs": [
    {
     "data": {
      "text/plain": [
       "[1, 2, 3, 11, 22, 33]"
      ]
     },
     "execution_count": 81,
     "metadata": {},
     "output_type": "execute_result"
    }
   ],
   "source": [
    "A = [1,2,3]\n",
    "\n",
    "B = [11,22,33]\n",
    "A.extend(B)\n",
    "A"
   ]
  },
  {
   "cell_type": "code",
   "execution_count": 83,
   "id": "d9b70e8c",
   "metadata": {},
   "outputs": [
    {
     "data": {
      "text/plain": [
       "[1, 2, 3, 11, 22, 33, [11, 22, 33], [11, 22, 33]]"
      ]
     },
     "execution_count": 83,
     "metadata": {},
     "output_type": "execute_result"
    }
   ],
   "source": [
    "A.append(B)\n",
    "A"
   ]
  },
  {
   "cell_type": "markdown",
   "id": "12fc2c72",
   "metadata": {},
   "source": [
    "# index method"
   ]
  },
  {
   "cell_type": "code",
   "execution_count": 84,
   "id": "bde3310b",
   "metadata": {},
   "outputs": [],
   "source": [
    "A = [1,2,3,4,5,6,\"Abhinav\",14+2j]"
   ]
  },
  {
   "cell_type": "code",
   "execution_count": 86,
   "id": "2a6a318c",
   "metadata": {},
   "outputs": [
    {
     "data": {
      "text/plain": [
       "0"
      ]
     },
     "execution_count": 86,
     "metadata": {},
     "output_type": "execute_result"
    }
   ],
   "source": [
    "A.index(1)"
   ]
  },
  {
   "cell_type": "code",
   "execution_count": 87,
   "id": "443da7e4",
   "metadata": {},
   "outputs": [
    {
     "data": {
      "text/plain": [
       "6"
      ]
     },
     "execution_count": 87,
     "metadata": {},
     "output_type": "execute_result"
    }
   ],
   "source": [
    "A.index(\"Abhinav\")"
   ]
  },
  {
   "cell_type": "code",
   "execution_count": 89,
   "id": "4d19c1c5",
   "metadata": {},
   "outputs": [
    {
     "name": "stdout",
     "output_type": "stream",
     "text": [
      " Element: 1, | type: <class 'int'>,|Index position:  0\n",
      " Element: 2, | type: <class 'int'>,|Index position:  1\n",
      " Element: 3, | type: <class 'int'>,|Index position:  2\n",
      " Element: 4, | type: <class 'int'>,|Index position:  3\n",
      " Element: 5, | type: <class 'int'>,|Index position:  4\n",
      " Element: 6, | type: <class 'int'>,|Index position:  5\n",
      " Element: Abhinav, | type: <class 'str'>,|Index position:  6\n",
      " Element: (14+2j), | type: <class 'complex'>,|Index position:  7\n"
     ]
    }
   ],
   "source": [
    "#print the index of all the complex no\n",
    "#do a for loop\n",
    "#if condition for type check\n",
    "#if type is complex then print the index\n",
    "\n",
    "\n",
    "\n",
    "for ele in A:\n",
    "    print(f\" Element: {ele}, | type: {type(ele)},|Index position:  {A.index(ele)}\")\n",
    "          \n",
    "          "
   ]
  },
  {
   "cell_type": "code",
   "execution_count": 90,
   "id": "7c4ff0c2",
   "metadata": {},
   "outputs": [
    {
     "name": "stdout",
     "output_type": "stream",
     "text": [
      " Element: (14+2j), | type: <class 'complex'>,|Index position:  7\n"
     ]
    }
   ],
   "source": [
    "for ele in A:\n",
    "    if type(ele) == complex:\n",
    "        print(f\" Element: {ele}, | type: {type(ele)},|Index position:  {A.index(ele)}\")\n",
    "          \n",
    "          "
   ]
  },
  {
   "cell_type": "code",
   "execution_count": 93,
   "id": "d7a9a5b1",
   "metadata": {},
   "outputs": [
    {
     "name": "stdout",
     "output_type": "stream",
     "text": [
      " Element: 1, | type: <class 'int'>,|Index position:  0\n",
      " Element: 2, | type: <class 'int'>,|Index position:  1\n",
      " Element: 3, | type: <class 'int'>,|Index position:  2\n",
      " Element: 4, | type: <class 'int'>,|Index position:  3\n",
      " Element: 5, | type: <class 'int'>,|Index position:  4\n",
      " Element: 6, | type: <class 'int'>,|Index position:  5\n"
     ]
    }
   ],
   "source": [
    "for ele in A:\n",
    "    #if type(ele) == int:\n",
    "    if isinstance(ele,int):\n",
    "        print(f\" Element: {ele}, | type: {type(ele)},|Index position:  {A.index(ele)}\")\n",
    "          \n",
    "          "
   ]
  },
  {
   "cell_type": "code",
   "execution_count": 95,
   "id": "e7dad4de",
   "metadata": {},
   "outputs": [
    {
     "name": "stdout",
     "output_type": "stream",
     "text": [
      " Element: 1, | type: <class 'int'>,|Index position:  0\n",
      " Element: 2, | type: <class 'int'>,|Index position:  1\n",
      " Element: 3, | type: <class 'int'>,|Index position:  2\n",
      " Element: 4, | type: <class 'int'>,|Index position:  3\n",
      " Element: 5, | type: <class 'int'>,|Index position:  4\n",
      " Element: 6, | type: <class 'int'>,|Index position:  5\n",
      " Element: (14+2j), | type: <class 'complex'>,|Index position:  7\n"
     ]
    }
   ],
   "source": [
    "#print the index of all the complex and int integer\n",
    "for ele in A:\n",
    "    #if type(ele) == int:\n",
    "    if isinstance(ele,(int,complex)):\n",
    "        print(f\" Element: {ele}, | type: {type(ele)},|Index position:  {A.index(ele)}\")\n",
    "          \n",
    "          "
   ]
  },
  {
   "cell_type": "code",
   "execution_count": 2,
   "id": "5badbc23",
   "metadata": {},
   "outputs": [
    {
     "data": {
      "text/plain": [
       "2"
      ]
     },
     "execution_count": 2,
     "metadata": {},
     "output_type": "execute_result"
    }
   ],
   "source": [
    "A = [11,3,4,56+2j,1+2j,3,5] # duplicate elements \n",
    "A.index(4)"
   ]
  },
  {
   "cell_type": "markdown",
   "id": "254610d0",
   "metadata": {},
   "source": [
    "# Insert"
   ]
  },
  {
   "cell_type": "code",
   "execution_count": 14,
   "id": "186e9bda",
   "metadata": {},
   "outputs": [],
   "source": [
    "A = [1,2,3,4,5]\n",
    "A.append(9)"
   ]
  },
  {
   "cell_type": "code",
   "execution_count": 15,
   "id": "48e00a45",
   "metadata": {},
   "outputs": [
    {
     "data": {
      "text/plain": [
       "[1, 2, 3, 4, 5, 9]"
      ]
     },
     "execution_count": 15,
     "metadata": {},
     "output_type": "execute_result"
    }
   ],
   "source": [
    "A"
   ]
  },
  {
   "cell_type": "code",
   "execution_count": 18,
   "id": "1486c0a7",
   "metadata": {},
   "outputs": [],
   "source": [
    "A.insert(2,99)"
   ]
  },
  {
   "cell_type": "code",
   "execution_count": 19,
   "id": "40a23755",
   "metadata": {},
   "outputs": [
    {
     "data": {
      "text/plain": [
       "[1, 2, 99, '99', 3, 4, 5, 9]"
      ]
     },
     "execution_count": 19,
     "metadata": {},
     "output_type": "execute_result"
    }
   ],
   "source": [
    "A"
   ]
  },
  {
   "cell_type": "code",
   "execution_count": 23,
   "id": "29bf6f66",
   "metadata": {},
   "outputs": [
    {
     "data": {
      "text/plain": [
       "11"
      ]
     },
     "execution_count": 23,
     "metadata": {},
     "output_type": "execute_result"
    }
   ],
   "source": [
    "A.insert(2,\"Abhinav\")\n",
    "len(A)"
   ]
  },
  {
   "cell_type": "code",
   "execution_count": 21,
   "id": "28053f39",
   "metadata": {},
   "outputs": [
    {
     "data": {
      "text/plain": [
       "[1, 2, 'Abhinav', 99, '99', 3, 4, 5, 9]"
      ]
     },
     "execution_count": 21,
     "metadata": {},
     "output_type": "execute_result"
    }
   ],
   "source": [
    "A"
   ]
  },
  {
   "cell_type": "markdown",
   "id": "99df4c8a",
   "metadata": {},
   "source": [
    " # Remove"
   ]
  },
  {
   "cell_type": "code",
   "execution_count": 27,
   "id": "c6a9acb8",
   "metadata": {},
   "outputs": [],
   "source": [
    "a = [1,2,3,4,5]\n",
    "a.remove(3)"
   ]
  },
  {
   "cell_type": "code",
   "execution_count": 28,
   "id": "952485a7",
   "metadata": {},
   "outputs": [
    {
     "data": {
      "text/plain": [
       "[1, 2, 4, 5]"
      ]
     },
     "execution_count": 28,
     "metadata": {},
     "output_type": "execute_result"
    }
   ],
   "source": [
    "a"
   ]
  },
  {
   "cell_type": "markdown",
   "id": "66441032",
   "metadata": {},
   "source": [
    "# TUPLES- () -immutable"
   ]
  },
  {
   "cell_type": "code",
   "execution_count": 1,
   "id": "125fabce",
   "metadata": {},
   "outputs": [],
   "source": [
    "a = (1,3,4)"
   ]
  },
  {
   "cell_type": "code",
   "execution_count": 2,
   "id": "37054f94",
   "metadata": {},
   "outputs": [
    {
     "data": {
      "text/plain": [
       "tuple"
      ]
     },
     "execution_count": 2,
     "metadata": {},
     "output_type": "execute_result"
    }
   ],
   "source": [
    "type(a)"
   ]
  },
  {
   "cell_type": "code",
   "execution_count": 3,
   "id": "e816614e",
   "metadata": {},
   "outputs": [
    {
     "data": {
      "text/plain": [
       "1"
      ]
     },
     "execution_count": 3,
     "metadata": {},
     "output_type": "execute_result"
    }
   ],
   "source": [
    "a[0]"
   ]
  },
  {
   "cell_type": "code",
   "execution_count": 4,
   "id": "4e1c0f36",
   "metadata": {},
   "outputs": [],
   "source": [
    "a = (22,12,34,1)"
   ]
  },
  {
   "cell_type": "code",
   "execution_count": 7,
   "id": "407d12dc",
   "metadata": {},
   "outputs": [
    {
     "data": {
      "text/plain": [
       "[1, 12, 22, 34]"
      ]
     },
     "execution_count": 7,
     "metadata": {},
     "output_type": "execute_result"
    }
   ],
   "source": [
    "sorted(a)"
   ]
  },
  {
   "cell_type": "code",
   "execution_count": 8,
   "id": "0cd889b4",
   "metadata": {},
   "outputs": [
    {
     "data": {
      "text/plain": [
       "[1, 12, 22, 34]"
      ]
     },
     "execution_count": 8,
     "metadata": {},
     "output_type": "execute_result"
    }
   ],
   "source": [
    "a =sorted(a)\n",
    "a"
   ]
  },
  {
   "cell_type": "code",
   "execution_count": 9,
   "id": "e21f3b28",
   "metadata": {},
   "outputs": [
    {
     "data": {
      "text/plain": [
       "4"
      ]
     },
     "execution_count": 9,
     "metadata": {},
     "output_type": "execute_result"
    }
   ],
   "source": [
    "a = (22,12,34,1)\n",
    "len(a)"
   ]
  },
  {
   "cell_type": "code",
   "execution_count": 13,
   "id": "f82fd569",
   "metadata": {},
   "outputs": [
    {
     "data": {
      "text/plain": [
       "(22, 12, 34, 1, 22, 12, 34, 1)"
      ]
     },
     "execution_count": 13,
     "metadata": {},
     "output_type": "execute_result"
    }
   ],
   "source": [
    "a *2"
   ]
  },
  {
   "cell_type": "code",
   "execution_count": 17,
   "id": "8d48a579",
   "metadata": {},
   "outputs": [
    {
     "data": {
      "text/plain": [
       "(34, 1, 69, 1)"
      ]
     },
     "execution_count": 17,
     "metadata": {},
     "output_type": "execute_result"
    }
   ],
   "source": [
    "max(a),min(a),sum(a),a.count(34)"
   ]
  },
  {
   "cell_type": "code",
   "execution_count": 18,
   "id": "8206291f",
   "metadata": {},
   "outputs": [
    {
     "data": {
      "text/plain": [
       "(1, 34, 12, 22)"
      ]
     },
     "execution_count": 18,
     "metadata": {},
     "output_type": "execute_result"
    }
   ],
   "source": [
    "a[::-1]"
   ]
  },
  {
   "cell_type": "code",
   "execution_count": 19,
   "id": "d32050be",
   "metadata": {},
   "outputs": [
    {
     "name": "stdout",
     "output_type": "stream",
     "text": [
      "what dou you want to purchase: phone\n",
      "('phone', 15000)\n"
     ]
    }
   ],
   "source": [
    "#user input what they want to purchase\n",
    "\n",
    "amazon_web = [(\"watches\",5000),(\"phone\",15000),(\"laptop\",190000),(\"tshirt\",1000)]\n",
    "my_choice = input(\"what dou you want to purchase: \")\n",
    "for item in amazon_web:\n",
    "    if item[0] == my_choice:\n",
    "        print(item)"
   ]
  },
  {
   "cell_type": "markdown",
   "id": "91b31aed",
   "metadata": {},
   "source": [
    "# SETS"
   ]
  },
  {
   "cell_type": "code",
   "execution_count": 20,
   "id": "3e49904d",
   "metadata": {},
   "outputs": [],
   "source": [
    "#sets is an unordered collection of unique elements"
   ]
  },
  {
   "cell_type": "code",
   "execution_count": 21,
   "id": "038f3d1b",
   "metadata": {},
   "outputs": [
    {
     "data": {
      "text/plain": [
       "set"
      ]
     },
     "execution_count": 21,
     "metadata": {},
     "output_type": "execute_result"
    }
   ],
   "source": [
    "x = {1,2,33,6,5}\n",
    "type(x)"
   ]
  },
  {
   "cell_type": "code",
   "execution_count": 23,
   "id": "d21d2682",
   "metadata": {},
   "outputs": [
    {
     "ename": "TypeError",
     "evalue": "'set' object is not subscriptable",
     "output_type": "error",
     "traceback": [
      "\u001b[1;31m---------------------------------------------------------------------------\u001b[0m",
      "\u001b[1;31mTypeError\u001b[0m                                 Traceback (most recent call last)",
      "\u001b[1;32m~\\AppData\\Local\\Temp/ipykernel_1184/2433890979.py\u001b[0m in \u001b[0;36m<module>\u001b[1;34m\u001b[0m\n\u001b[1;32m----> 1\u001b[1;33m \u001b[0mx\u001b[0m\u001b[1;33m[\u001b[0m\u001b[1;36m0\u001b[0m\u001b[1;33m]\u001b[0m \u001b[1;31m# not allowed as set is an unordered\u001b[0m\u001b[1;33m\u001b[0m\u001b[1;33m\u001b[0m\u001b[0m\n\u001b[0m",
      "\u001b[1;31mTypeError\u001b[0m: 'set' object is not subscriptable"
     ]
    }
   ],
   "source": [
    "x[0] # not allowed as set is an unordered"
   ]
  },
  {
   "cell_type": "code",
   "execution_count": 24,
   "id": "15398c15",
   "metadata": {},
   "outputs": [],
   "source": [
    "x = {1,2,33,6,5,\"Abhinav\"}"
   ]
  },
  {
   "cell_type": "code",
   "execution_count": 25,
   "id": "b887f575",
   "metadata": {},
   "outputs": [
    {
     "data": {
      "text/plain": [
       "{1, 2, 33, 5, 6, 'Abhinav'}"
      ]
     },
     "execution_count": 25,
     "metadata": {},
     "output_type": "execute_result"
    }
   ],
   "source": [
    "x"
   ]
  },
  {
   "cell_type": "code",
   "execution_count": 28,
   "id": "d9ff18ac",
   "metadata": {},
   "outputs": [
    {
     "data": {
      "text/plain": [
       "{1, 2, 33, 5, 6, 99, 'Abhinav'}"
      ]
     },
     "execution_count": 28,
     "metadata": {},
     "output_type": "execute_result"
    }
   ],
   "source": [
    "x.add(99) #append doesn't work in sets\n",
    "\n",
    "x"
   ]
  },
  {
   "cell_type": "code",
   "execution_count": 32,
   "id": "7dcf4bca",
   "metadata": {},
   "outputs": [
    {
     "data": {
      "text/plain": [
       "{(99+2j), 1, 2, 33, 5, 6, 99, 'Abhinav'}"
      ]
     },
     "execution_count": 32,
     "metadata": {},
     "output_type": "execute_result"
    }
   ],
   "source": [
    "x.add(99+2j)\n",
    "x"
   ]
  },
  {
   "cell_type": "code",
   "execution_count": 33,
   "id": "774f6ea3",
   "metadata": {},
   "outputs": [
    {
     "data": {
      "text/plain": [
       "{(99+2j), -200, 1, 2, 33, 5, 6, 99, 'Abhinav'}"
      ]
     },
     "execution_count": 33,
     "metadata": {},
     "output_type": "execute_result"
    }
   ],
   "source": [
    "x.add(-200)\n",
    "x"
   ]
  },
  {
   "cell_type": "code",
   "execution_count": 34,
   "id": "bd668cfc",
   "metadata": {},
   "outputs": [
    {
     "data": {
      "text/plain": [
       "{(99+2j), -200, 1, 2, 33, 5, 6, 9.12, 99, 'Abhinav'}"
      ]
     },
     "execution_count": 34,
     "metadata": {},
     "output_type": "execute_result"
    }
   ],
   "source": [
    "x.add(9.12)\n",
    "x"
   ]
  },
  {
   "cell_type": "code",
   "execution_count": 29,
   "id": "4e9304f5",
   "metadata": {},
   "outputs": [
    {
     "ename": "TypeError",
     "evalue": "unsupported operand type(s) for +: 'set' and 'set'",
     "output_type": "error",
     "traceback": [
      "\u001b[1;31m---------------------------------------------------------------------------\u001b[0m",
      "\u001b[1;31mTypeError\u001b[0m                                 Traceback (most recent call last)",
      "\u001b[1;32m~\\AppData\\Local\\Temp/ipykernel_1184/4282132713.py\u001b[0m in \u001b[0;36m<module>\u001b[1;34m\u001b[0m\n\u001b[0;32m      1\u001b[0m \u001b[0ma\u001b[0m \u001b[1;33m=\u001b[0m \u001b[1;33m{\u001b[0m\u001b[1;36m1\u001b[0m\u001b[1;33m,\u001b[0m\u001b[1;36m2\u001b[0m\u001b[1;33m,\u001b[0m\u001b[1;36m3\u001b[0m\u001b[1;33m}\u001b[0m\u001b[1;33m\u001b[0m\u001b[1;33m\u001b[0m\u001b[0m\n\u001b[0;32m      2\u001b[0m \u001b[0mb\u001b[0m \u001b[1;33m=\u001b[0m \u001b[1;33m{\u001b[0m\u001b[1;36m4\u001b[0m\u001b[1;33m,\u001b[0m\u001b[1;36m5\u001b[0m\u001b[1;33m,\u001b[0m\u001b[1;36m6\u001b[0m\u001b[1;33m}\u001b[0m\u001b[1;33m\u001b[0m\u001b[1;33m\u001b[0m\u001b[0m\n\u001b[1;32m----> 3\u001b[1;33m \u001b[0ma\u001b[0m\u001b[1;33m+\u001b[0m\u001b[0mb\u001b[0m\u001b[1;33m\u001b[0m\u001b[1;33m\u001b[0m\u001b[0m\n\u001b[0m",
      "\u001b[1;31mTypeError\u001b[0m: unsupported operand type(s) for +: 'set' and 'set'"
     ]
    }
   ],
   "source": [
    "a = {1,2,3}\n",
    "b = {4,5,6}\n",
    "a+b"
   ]
  },
  {
   "cell_type": "code",
   "execution_count": 36,
   "id": "69dbaf48",
   "metadata": {},
   "outputs": [
    {
     "ename": "KeyError",
     "evalue": "33",
     "output_type": "error",
     "traceback": [
      "\u001b[1;31m---------------------------------------------------------------------------\u001b[0m",
      "\u001b[1;31mKeyError\u001b[0m                                  Traceback (most recent call last)",
      "\u001b[1;32m~\\AppData\\Local\\Temp/ipykernel_1184/2617230792.py\u001b[0m in \u001b[0;36m<module>\u001b[1;34m\u001b[0m\n\u001b[1;32m----> 1\u001b[1;33m \u001b[0mx\u001b[0m\u001b[1;33m.\u001b[0m\u001b[0mremove\u001b[0m\u001b[1;33m(\u001b[0m\u001b[1;36m33\u001b[0m\u001b[1;33m)\u001b[0m\u001b[1;33m\u001b[0m\u001b[1;33m\u001b[0m\u001b[0m\n\u001b[0m\u001b[0;32m      2\u001b[0m \u001b[0mx\u001b[0m\u001b[1;33m\u001b[0m\u001b[1;33m\u001b[0m\u001b[0m\n",
      "\u001b[1;31mKeyError\u001b[0m: 33"
     ]
    }
   ],
   "source": [
    "x.remove(33)\n",
    "x"
   ]
  },
  {
   "cell_type": "code",
   "execution_count": null,
   "id": "af07bc81",
   "metadata": {},
   "outputs": [],
   "source": []
  }
 ],
 "metadata": {
  "kernelspec": {
   "display_name": "Python 3 (ipykernel)",
   "language": "python",
   "name": "python3"
  },
  "language_info": {
   "codemirror_mode": {
    "name": "ipython",
    "version": 3
   },
   "file_extension": ".py",
   "mimetype": "text/x-python",
   "name": "python",
   "nbconvert_exporter": "python",
   "pygments_lexer": "ipython3",
   "version": "3.9.7"
  }
 },
 "nbformat": 4,
 "nbformat_minor": 5
}
